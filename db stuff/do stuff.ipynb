{
 "cells": [
  {
   "cell_type": "markdown",
   "metadata": {},
   "source": [
    "Manipolazione dati e popolamento delle tabelle Utente, Birra, Consumazione"
   ]
  },
  {
   "cell_type": "code",
   "execution_count": 1,
   "metadata": {},
   "outputs": [],
   "source": [
    "# Funzioni e imports\n",
    "import json, os\n",
    "import mysql.connector\n",
    "\n",
    "def serialize_json(folder, filename, data):\n",
    "    if not os.path.exists(folder):\n",
    "        os.makedirs(folder, exist_ok=True)\n",
    "    with open(f\"{folder}/{filename}\", \"w\", encoding=\"utf-8\") as f:\n",
    "        json.dump(data, f, ensure_ascii=False, indent=4)\n",
    "        f.close()\n",
    "    print(f\"Data serialized to path: {folder}/{filename}\")\n",
    "\n",
    "\n",
    "def read_json(path):\n",
    "    if os.path.exists(path):\n",
    "        with open(path, \"r\", encoding=\"utf8\") as file:\n",
    "            data = json.load(file)\n",
    "        print(f\"Data read from path: {path}\")\n",
    "        return data\n",
    "    else:\n",
    "        print(f\"No data found at path: {path}\")\n",
    "        return {}"
   ]
  },
  {
   "cell_type": "code",
   "execution_count": 2,
   "metadata": {},
   "outputs": [],
   "source": [
    "# Connessione al DB\n",
    "db = mysql.connector.connect(host=\"localhost\", user=\"arzo\", password=\"abcd1234\", database=\"beer\")\n",
    "cursor = db.cursor()"
   ]
  },
  {
   "cell_type": "code",
   "execution_count": null,
   "metadata": {
    "tags": [
     "Utente"
    ]
   },
   "outputs": [],
   "source": [
    "jsonUtenti = read_json(\"utente.json\")\n",
    "\n",
    "#Dati casuali generati con mockaroo.com, ma l'attributo 'conto' era in forma \"123,45\", mentre il DB necessita di 123.45, quindi converto\n",
    "for user in jsonUtenti:\n",
    "    user[\"saldo\"] = float(user[\"saldo\"].replace(\",\", \".\"))\n",
    "    print(user[\"saldo\"])\n",
    "\n",
    "# Magari serve più tardi...\n",
    "serialize_json(\"./\", \"utente.json\", jsonUtenti) \n",
    "\n",
    "# Popolamento Utente\n",
    "for utente in jsonUtenti:\n",
    "    cursor.execute(\n",
    "        f'INSERT INTO Utente(id,nome, cognome, email, psw, saldo, data_reg) VALUES (\\'{utente[\"id\"]}\\',\\'{utente[\"nome\"]}\\',\\'{utente[\"cognome\"]}\\',\\'{utente[\"email\"]}\\',\\'{utente[\"psw\"]}\\',{utente[\"saldo\"]},\\'{utente[\"data_reg\"]}\\')'\n",
    "    )"
   ]
  },
  {
   "cell_type": "code",
   "execution_count": 7,
   "metadata": {},
   "outputs": [
    {
     "name": "stdout",
     "output_type": "stream",
     "text": [
      "Data read from path: birra.json\n",
      "Inserita birra Crux\n",
      "Inserita birra Isaac\n",
      "Inserita birra Black Hole\n",
      "Inserita birra Lone Wolf\n",
      "Inserita birra Pop\n",
      "Inserita birra Heineken\n",
      "Inserita birra Guinness\n",
      "Inserita birra Guerrilla\n",
      "Inserita birra Kilkenny RED\n",
      "Inserita birra Peroni\n",
      "Inserita birra Grim Reaper\n",
      "Inserita birra Poretti IPA\n"
     ]
    }
   ],
   "source": [
    "jsonBirre = read_json(\"birra.json\")\n",
    "cursor.execute('DELETE FROM Birra')\n",
    "for birra in jsonBirre:\n",
    "    cursor.execute(f'INSERT INTO Birra(id, nome, prezzo_litro, disp, gradi, tipo) VALUES ({birra[\"id\"]},\\'{birra[\"nome\"]}\\',{birra[\"prezzo_litro\"]},\\'{birra[\"disp\"]}\\',{birra[\"gradi\"]},\\'{birra[\"tipo\"]}\\')')\n",
    "    print(f'Inserita birra {birra[\"nome\"]}')"
   ]
  },
  {
   "cell_type": "code",
   "execution_count": null,
   "metadata": {},
   "outputs": [],
   "source": []
  }
 ],
 "metadata": {
  "kernelspec": {
   "display_name": "Python 3",
   "language": "python",
   "name": "python3"
  },
  "language_info": {
   "codemirror_mode": {
    "name": "ipython",
    "version": 3
   },
   "file_extension": ".py",
   "mimetype": "text/x-python",
   "name": "python",
   "nbconvert_exporter": "python",
   "pygments_lexer": "ipython3",
   "version": "3.10.4"
  },
  "orig_nbformat": 4
 },
 "nbformat": 4,
 "nbformat_minor": 2
}
