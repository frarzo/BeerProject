{
 "cells": [
  {
   "cell_type": "code",
   "execution_count": null,
   "metadata": {},
   "outputs": [],
   "source": [
    "import json, os\n",
    "import mysql.connector\n",
    "\n",
    "def read_json(path):\n",
    "    if os.path.exists(path):\n",
    "        with open(path, \"r\", encoding=\"utf8\") as file:\n",
    "            data = json.load(file)\n",
    "        print(f\"Data read from path: {path}\")\n",
    "        return data\n",
    "    else:\n",
    "        print(f\"No data found at path: {path}\")\n",
    "        return {}"
   ]
  },
  {
   "cell_type": "code",
   "execution_count": null,
   "metadata": {},
   "outputs": [],
   "source": [
    "db = mysql.connector.connect(host=\"localhost\", user=\"arzo\", password=\"abcd1234\", database=\"beer\")\n",
    "cursor = db.cursor()"
   ]
  },
  {
   "cell_type": "code",
   "execution_count": null,
   "metadata": {
    "tags": [
     "Utente"
    ]
   },
   "outputs": [],
   "source": [
    "jsonUtenti = read_json(\"db stuff/utente.json\")\n",
    "\n",
    "for utente in jsonUtenti:\n",
    "    cursor.execute(f'INSERT INTO Utente(id,nome, cognome, email, psw, saldo, data_reg) VALUES (\\'{utente[\"id\"]}\\',\\'{utente[\"nome\"]}\\',\\'{utente[\"cognome\"]}\\',\\'{utente[\"email\"]}\\',\\'{utente[\"psw\"]}\\',{utente[\"saldo\"]},\\'{utente[\"data_reg\"]}\\')')"
   ]
  },
  {
   "cell_type": "code",
   "execution_count": null,
   "metadata": {},
   "outputs": [],
   "source": []
  }
 ],
 "metadata": {
  "kernelspec": {
   "display_name": "Python 3",
   "language": "python",
   "name": "python3"
  },
  "language_info": {
   "name": "python",
   "version": "3.10.4"
  },
  "orig_nbformat": 4
 },
 "nbformat": 4,
 "nbformat_minor": 2
}
