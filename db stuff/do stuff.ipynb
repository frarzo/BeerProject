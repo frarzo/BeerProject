{
 "cells": [
  {
   "cell_type": "markdown",
   "metadata": {},
   "source": [
    "Manipolazione dati e popolamento delle tabelle Utente, Birra, Consumazione"
   ]
  },
  {
   "cell_type": "code",
   "execution_count": 34,
   "metadata": {},
   "outputs": [],
   "source": [
    "# Funzioni e imports\n",
    "import json, os, random,datetime\n",
    "import mysql.connector\n",
    "\n",
    "def serialize_json(folder, filename, data):\n",
    "    if not os.path.exists(folder):\n",
    "        os.makedirs(folder, exist_ok=True)\n",
    "    with open(f\"{folder}/{filename}\", \"w\", encoding=\"utf-8\") as f:\n",
    "        json.dump(data, f, ensure_ascii=False, indent=4)\n",
    "        f.close()\n",
    "    print(f\"Data serialized to path: {folder}/{filename}\")\n",
    "\n",
    "\n",
    "def read_json(path):\n",
    "    if os.path.exists(path):\n",
    "        with open(path, \"r\", encoding=\"utf8\") as file:\n",
    "            data = json.load(file)\n",
    "        print(f\"Data read from path: {path}\")\n",
    "        return data\n",
    "    else:\n",
    "        print(f\"No data found at path: {path}\")\n",
    "        return {}\n",
    "\n",
    "def randomDate(datareg):\n",
    "    end_date = datetime.datetime.now()\n",
    "    random_date = (datareg + (end_date - datareg) * random.random()).strftime('%Y-%m-%d %H:%M:%S')\n",
    "    return(random_date)\n"
   ]
  },
  {
   "cell_type": "code",
   "execution_count": 2,
   "metadata": {},
   "outputs": [],
   "source": [
    "# Connessione al DB\n",
    "db = mysql.connector.connect(host=\"localhost\", user=\"arzo\", password=\"abcd1234\", database=\"beer\")\n",
    "cursor = db.cursor()"
   ]
  },
  {
   "cell_type": "code",
   "execution_count": null,
   "metadata": {
    "tags": [
     "Utente"
    ]
   },
   "outputs": [],
   "source": [
    "jsonUtenti = read_json(\"utente.json\")\n",
    "\n",
    "#Dati casuali generati con mockaroo.com, ma l'attributo 'conto' era in forma \"123,45\", mentre il DB necessita di 123.45, quindi converto\n",
    "for user in jsonUtenti:\n",
    "    user[\"saldo\"] = float(user[\"saldo\"].replace(\",\", \".\"))\n",
    "    print(user[\"saldo\"])\n",
    "\n",
    "# Magari serve più tardi...\n",
    "serialize_json(\"./\", \"utente.json\", jsonUtenti) \n",
    "\n",
    "# Popolamento Utente\n",
    "for utente in jsonUtenti:\n",
    "    cursor.execute(\n",
    "        f'INSERT INTO Utente(id,nome, cognome, email, psw, saldo, data_reg) VALUES (\\'{utente[\"id\"]}\\',\\'{utente[\"nome\"]}\\',\\'{utente[\"cognome\"]}\\',\\'{utente[\"email\"]}\\',\\'{utente[\"psw\"]}\\',{utente[\"saldo\"]},\\'{utente[\"data_reg\"]}\\')'\n",
    "    )\n",
    "    \n",
    "db.commit()"
   ]
  },
  {
   "cell_type": "code",
   "execution_count": null,
   "metadata": {},
   "outputs": [],
   "source": [
    "jsonBirre = read_json(\"birra.json\")\n",
    "\n",
    "#Alcune birre \n",
    "for birra in jsonBirre:\n",
    "    cursor.execute(f'INSERT INTO Birra(id, nome, prezzo_litro, disp, gradi, tipo) VALUES ({birra[\"id\"]},\\'{birra[\"nome\"]}\\',{birra[\"prezzo_litro\"]},\\'{birra[\"disp\"]}\\',{birra[\"gradi\"]},\\'{birra[\"tipo\"]}\\');')\n",
    "    #print(f'Inserita birra {birra[\"nome\"]}')\n",
    "\n",
    "db.commit()"
   ]
  },
  {
   "cell_type": "code",
   "execution_count": null,
   "metadata": {},
   "outputs": [],
   "source": [
    "cursor.execute('SELECT id FROM Utente;')\n",
    "utenti = cursor.fetchall()\n",
    "cursor.execute('SELECT data_reg FROM Utente;')\n",
    "datareg = cursor.fetchall()\n",
    "\n",
    "\n"
   ]
  },
  {
   "cell_type": "code",
   "execution_count": 38,
   "metadata": {},
   "outputs": [],
   "source": [
    "cursor.execute(\"DELETE FROM Consumazione\")\n",
    "db.commit()\n",
    "\n",
    "cursor.execute('SELECT id FROM Utente;')\n",
    "utenti = cursor.fetchall()\n",
    "\n",
    "cursor.execute('SELECT data_reg FROM Utente;')\n",
    "datareg = cursor.fetchall()\n",
    "\n",
    "cursor.execute('SELECT id FROM Birra WHERE disp=\\'DISP\\';')\n",
    "id_birre = cursor.fetchall()\n",
    "\n",
    "for i in range(200):\n",
    "    #Scelgo un numero casuale tra 0 e dim. utenti\n",
    "    rnd=random.randint(0,len(utenti)-1) \n",
    "\n",
    "    cursor.execute(f'INSERT INTO Consumazione(id,user_id,beer_id,quantita,data_consumazione) VALUES ({random.randint(1,10000000)},\\'{utenti[rnd][0]}\\',{random.choice(id_birre)[0]},{random.choice([125,500,750,1000])},\\'{randomDate(datareg[rnd][0])}\\');')\n",
    "\n",
    "db.commit()"
   ]
  }
 ],
 "metadata": {
  "kernelspec": {
   "display_name": "Python 3",
   "language": "python",
   "name": "python3"
  },
  "language_info": {
   "codemirror_mode": {
    "name": "ipython",
    "version": 3
   },
   "file_extension": ".py",
   "mimetype": "text/x-python",
   "name": "python",
   "nbconvert_exporter": "python",
   "pygments_lexer": "ipython3",
   "version": "3.10.4"
  },
  "orig_nbformat": 4
 },
 "nbformat": 4,
 "nbformat_minor": 2
}
